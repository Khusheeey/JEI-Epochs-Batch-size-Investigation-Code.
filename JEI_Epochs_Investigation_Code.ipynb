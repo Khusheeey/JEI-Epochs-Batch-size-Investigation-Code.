{
  "cells": [
    {
      "cell_type": "markdown",
      "metadata": {
        "id": "view-in-github",
        "colab_type": "text"
      },
      "source": [
        "<a href=\"https://colab.research.google.com/github/Khusheeey/JEI-Epochs-Batch-size-Investigation-Code./blob/main/JEI_Epochs_Investigation_Code.ipynb\" target=\"_parent\"><img src=\"https://colab.research.google.com/assets/colab-badge.svg\" alt=\"Open In Colab\"/></a>"
      ]
    },
    {
      "cell_type": "code",
      "execution_count": null,
      "metadata": {
        "id": "4wOdeUbaFQc8"
      },
      "outputs": [],
      "source": [
        "#NUMBEER OF EPOCHS & TRIAL NUMBER\n",
        "epoch_num=100\n",
        "trial_num=10"
      ]
    },
    {
      "cell_type": "code",
      "execution_count": null,
      "metadata": {
        "id": "qUqfL2k5vEqq"
      },
      "outputs": [],
      "source": [
        "import tensorflow as tf\n",
        "import os\n",
        "\n",
        "# Avoid OOM errors by setting GPU Memory Consumption Growth\n",
        "gpus = tf.config.experimental.list_physical_devices('GPU')\n",
        "for gpu in gpus:\n",
        "    tf.config.experimental.set_memory_growth(gpu, True)\n",
        "tf.config.list_physical_devices('GPU')\n",
        "\n",
        "# Mount drive and change directory to folder location containing the dataset\n",
        "from google.colab import drive\n",
        "drive.mount('/content/drive')\n",
        "%cd '/content/drive/My Drive/JEI pulsar train data'"
      ]
    },
    {
      "cell_type": "code",
      "source": [
        "import numpy as np\n",
        "from matplotlib import pyplot as plt\n",
        "\n",
        "# create data pipeline\n",
        "data = tf.keras.utils.image_dataset_from_directory('/content/drive/My Drive/JEI pulsar train data',batch_size=batch_size)\n",
        "data_iterator = data.as_numpy_iterator()\n",
        "batch = data_iterator.next()\n",
        "\n",
        "# 1 = PULSAR, 0 = NOT PULSAR\n",
        "# viewing 4 images from a batch\n",
        "fig, ax = plt.subplots(ncols=4, figsize=(20,20))\n",
        "for idx, img in enumerate(batch[0][:4]):\n",
        "    ax[idx].imshow(img.astype(int))\n",
        "    ax[idx].title.set_text(batch[1][idx])"
      ],
      "metadata": {
        "id": "nm8iGyQuk5kc"
      },
      "execution_count": null,
      "outputs": []
    },
    {
      "cell_type": "code",
      "source": [
        "# dividing by 255 to make values btw 0-1\n",
        "\n",
        "data = data.map(lambda x,y: (x/255, y))\n",
        "scaled_iterator = data.as_numpy_iterator()\n",
        "batch = scaled_iterator.next()\n",
        "\n",
        "# viewing 4 images from a batch\n",
        "fig, ax = plt.subplots(ncols=4, figsize=(20,20))\n",
        "for idx, img in enumerate(batch[0][:4]):\n",
        "    ax[idx].imshow(img)\n",
        "    ax[idx].title.set_text(batch[1][idx])"
      ],
      "metadata": {
        "id": "tb4fJAMAlAq0"
      },
      "execution_count": null,
      "outputs": []
    },
    {
      "cell_type": "code",
      "source": [
        "# splitting data into training and validation sets (100 of the 120 for training, and 20 of the 120 for testing)\n",
        "\n",
        "train_size = int(len(data)*(100/120))\n",
        "val_size = int(len(data)*(20/120))\n",
        "\n",
        "train = data.take(train_size)\n",
        "val = data.skip(train_size).take(val_size)"
      ],
      "metadata": {
        "id": "urfCehDrlbV7"
      },
      "execution_count": null,
      "outputs": []
    },
    {
      "cell_type": "code",
      "execution_count": null,
      "metadata": {
        "id": "DHt8o6AGvdh1"
      },
      "outputs": [],
      "source": [
        "from tensorflow.keras.models import Sequential\n",
        "from tensorflow.keras.layers import Conv2D, MaxPooling2D, Dense, Flatten, Dropout\n",
        "\n",
        "model = Sequential()\n",
        "\n",
        "#Building the model\n",
        "model.add(Conv2D(16, (3,3), 1, activation='relu', input_shape=(256,256,3)))\n",
        "model.add(MaxPooling2D())\n",
        "\n",
        "model.add(Conv2D(32, (3,3), 1, activation='relu', input_shape=(256,256,3)))\n",
        "model.add(MaxPooling2D())\n",
        "\n",
        "model.add(Flatten())\n",
        "\n",
        "model.add(Dense(16, activation='relu'))\n",
        "model.add(Dense(1, activation='sigmoid'))\n",
        "\n",
        "model.compile('adam', loss=tf.losses.BinaryCrossentropy(), metrics=['accuracy'])"
      ]
    },
    {
      "cell_type": "code",
      "execution_count": null,
      "metadata": {
        "colab": {
          "background_save": true,
          "base_uri": "https://localhost:8080/"
        },
        "id": "P_M3m4fv4zX0",
        "outputId": "22022e32-dde0-463f-a3da-dc9b24a21adf",
        "collapsed": true
      },
      "outputs": [
        {
          "name": "stdout",
          "output_type": "stream",
          "text": [
            "Epoch 1/100\n",
            "\u001b[1m19/19\u001b[0m \u001b[32m━━━━━━━━━━━━━━━━━━━━\u001b[0m\u001b[37m\u001b[0m \u001b[1m9s\u001b[0m 353ms/step - accuracy: 0.5928 - loss: 1.5228 - val_accuracy: 0.5000 - val_loss: 0.6932\n",
            "Epoch 2/100\n",
            "\u001b[1m19/19\u001b[0m \u001b[32m━━━━━━━━━━━━━━━━━━━━\u001b[0m\u001b[37m\u001b[0m \u001b[1m8s\u001b[0m 441ms/step - accuracy: 0.4986 - loss: 0.6932 - val_accuracy: 0.4000 - val_loss: 0.6940\n",
            "Epoch 3/100\n",
            "\u001b[1m19/19\u001b[0m \u001b[32m━━━━━━━━━━━━━━━━━━━━\u001b[0m\u001b[37m\u001b[0m \u001b[1m6s\u001b[0m 328ms/step - accuracy: 0.5706 - loss: 0.6925 - val_accuracy: 0.3333 - val_loss: 0.6957\n",
            "Epoch 4/100\n",
            "\u001b[1m19/19\u001b[0m \u001b[32m━━━━━━━━━━━━━━━━━━━━\u001b[0m\u001b[37m\u001b[0m \u001b[1m9s\u001b[0m 491ms/step - accuracy: 0.4240 - loss: 0.6943 - val_accuracy: 0.5667 - val_loss: 0.6922\n",
            "Epoch 5/100\n",
            "\u001b[1m19/19\u001b[0m \u001b[32m━━━━━━━━━━━━━━━━━━━━\u001b[0m\u001b[37m\u001b[0m \u001b[1m7s\u001b[0m 338ms/step - accuracy: 0.5230 - loss: 0.6928 - val_accuracy: 0.4667 - val_loss: 0.6938\n",
            "Epoch 6/100\n",
            "\u001b[1m19/19\u001b[0m \u001b[32m━━━━━━━━━━━━━━━━━━━━\u001b[0m\u001b[37m\u001b[0m \u001b[1m9s\u001b[0m 474ms/step - accuracy: 0.4973 - loss: 0.6932 - val_accuracy: 0.4000 - val_loss: 0.6951\n",
            "Epoch 7/100\n",
            "\u001b[1m19/19\u001b[0m \u001b[32m━━━━━━━━━━━━━━━━━━━━\u001b[0m\u001b[37m\u001b[0m \u001b[1m7s\u001b[0m 352ms/step - accuracy: 0.5517 - loss: 0.6922 - val_accuracy: 0.4667 - val_loss: 0.6940\n",
            "Epoch 8/100\n",
            "\u001b[1m19/19\u001b[0m \u001b[32m━━━━━━━━━━━━━━━━━━━━\u001b[0m\u001b[37m\u001b[0m \u001b[1m8s\u001b[0m 416ms/step - accuracy: 0.4967 - loss: 0.6933 - val_accuracy: 0.5333 - val_loss: 0.6924\n",
            "Epoch 9/100\n",
            "\u001b[1m19/19\u001b[0m \u001b[32m━━━━━━━━━━━━━━━━━━━━\u001b[0m\u001b[37m\u001b[0m \u001b[1m7s\u001b[0m 373ms/step - accuracy: 0.5222 - loss: 0.6927 - val_accuracy: 0.4000 - val_loss: 0.6959\n",
            "Epoch 10/100\n",
            "\u001b[1m19/19\u001b[0m \u001b[32m━━━━━━━━━━━━━━━━━━━━\u001b[0m\u001b[37m\u001b[0m \u001b[1m10s\u001b[0m 336ms/step - accuracy: 0.5117 - loss: 0.6929 - val_accuracy: 0.5667 - val_loss: 0.6912\n",
            "Epoch 11/100\n",
            "\u001b[1m19/19\u001b[0m \u001b[32m━━━━━━━━━━━━━━━━━━━━\u001b[0m\u001b[37m\u001b[0m \u001b[1m9s\u001b[0m 452ms/step - accuracy: 0.6184 - loss: 0.6895 - val_accuracy: 0.3667 - val_loss: 0.6984\n",
            "Epoch 12/100\n",
            "\u001b[1m19/19\u001b[0m \u001b[32m━━━━━━━━━━━━━━━━━━━━\u001b[0m\u001b[37m\u001b[0m \u001b[1m7s\u001b[0m 348ms/step - accuracy: 0.5144 - loss: 0.6928 - val_accuracy: 0.3667 - val_loss: 0.6989\n",
            "Epoch 13/100\n",
            "\u001b[1m19/19\u001b[0m \u001b[32m━━━━━━━━━━━━━━━━━━━━\u001b[0m\u001b[37m\u001b[0m \u001b[1m9s\u001b[0m 454ms/step - accuracy: 0.4604 - loss: 0.6950 - val_accuracy: 0.4667 - val_loss: 0.6947\n",
            "Epoch 14/100\n",
            "\u001b[1m19/19\u001b[0m \u001b[32m━━━━━━━━━━━━━━━━━━━━\u001b[0m\u001b[37m\u001b[0m \u001b[1m7s\u001b[0m 337ms/step - accuracy: 0.5621 - loss: 0.6908 - val_accuracy: 0.3667 - val_loss: 0.6990\n",
            "Epoch 15/100\n",
            "\u001b[1m19/19\u001b[0m \u001b[32m━━━━━━━━━━━━━━━━━━━━\u001b[0m\u001b[37m\u001b[0m \u001b[1m8s\u001b[0m 429ms/step - accuracy: 0.4876 - loss: 0.6939 - val_accuracy: 0.4667 - val_loss: 0.6947\n",
            "Epoch 16/100\n",
            "\u001b[1m19/19\u001b[0m \u001b[32m━━━━━━━━━━━━━━━━━━━━\u001b[0m\u001b[37m\u001b[0m \u001b[1m6s\u001b[0m 332ms/step - accuracy: 0.5173 - loss: 0.6927 - val_accuracy: 0.3667 - val_loss: 0.6989\n",
            "Epoch 17/100\n",
            "\u001b[1m19/19\u001b[0m \u001b[32m━━━━━━━━━━━━━━━━━━━━\u001b[0m\u001b[37m\u001b[0m \u001b[1m8s\u001b[0m 433ms/step - accuracy: 0.5113 - loss: 0.6929 - val_accuracy: 0.4667 - val_loss: 0.6949\n",
            "Epoch 18/100\n",
            "\u001b[1m19/19\u001b[0m \u001b[32m━━━━━━━━━━━━━━━━━━━━\u001b[0m\u001b[37m\u001b[0m \u001b[1m8s\u001b[0m 404ms/step - accuracy: 0.5158 - loss: 0.6927 - val_accuracy: 0.4333 - val_loss: 0.6967\n",
            "Epoch 19/100\n",
            "\u001b[1m19/19\u001b[0m \u001b[32m━━━━━━━━━━━━━━━━━━━━\u001b[0m\u001b[37m\u001b[0m \u001b[1m8s\u001b[0m 385ms/step - accuracy: 0.4682 - loss: 0.6950 - val_accuracy: 0.3667 - val_loss: 0.7003\n",
            "Epoch 20/100\n",
            "\u001b[1m19/19\u001b[0m \u001b[32m━━━━━━━━━━━━━━━━━━━━\u001b[0m\u001b[37m\u001b[0m \u001b[1m11s\u001b[0m 438ms/step - accuracy: 0.5579 - loss: 0.6905 - val_accuracy: 0.4333 - val_loss: 0.6971\n",
            "Epoch 21/100\n",
            "\u001b[1m19/19\u001b[0m \u001b[32m━━━━━━━━━━━━━━━━━━━━\u001b[0m\u001b[37m\u001b[0m \u001b[1m6s\u001b[0m 329ms/step - accuracy: 0.4950 - loss: 0.6938 - val_accuracy: 0.4333 - val_loss: 0.6971\n",
            "Epoch 22/100\n",
            "\u001b[1m19/19\u001b[0m \u001b[32m━━━━━━━━━━━━━━━━━━━━\u001b[0m\u001b[37m\u001b[0m \u001b[1m8s\u001b[0m 420ms/step - accuracy: 0.5463 - loss: 0.6911 - val_accuracy: 0.4000 - val_loss: 0.6991\n",
            "Epoch 23/100\n",
            "\u001b[1m19/19\u001b[0m \u001b[32m━━━━━━━━━━━━━━━━━━━━\u001b[0m\u001b[37m\u001b[0m \u001b[1m6s\u001b[0m 333ms/step - accuracy: 0.5894 - loss: 0.6886 - val_accuracy: 0.4333 - val_loss: 0.6974\n",
            "Epoch 24/100\n",
            "\u001b[1m19/19\u001b[0m \u001b[32m━━━━━━━━━━━━━━━━━━━━\u001b[0m\u001b[37m\u001b[0m \u001b[1m8s\u001b[0m 438ms/step - accuracy: 0.5684 - loss: 0.6896 - val_accuracy: 0.4333 - val_loss: 0.6976\n",
            "Epoch 25/100\n",
            "\u001b[1m19/19\u001b[0m \u001b[32m━━━━━━━━━━━━━━━━━━━━\u001b[0m\u001b[37m\u001b[0m \u001b[1m8s\u001b[0m 418ms/step - accuracy: 0.5338 - loss: 0.6916 - val_accuracy: 0.4000 - val_loss: 0.6997\n",
            "Epoch 26/100\n",
            "\u001b[1m19/19\u001b[0m \u001b[32m━━━━━━━━━━━━━━━━━━━━\u001b[0m\u001b[37m\u001b[0m \u001b[1m9s\u001b[0m 355ms/step - accuracy: 0.4904 - loss: 0.6942 - val_accuracy: 0.3333 - val_loss: 0.7041\n",
            "Epoch 27/100\n",
            "\u001b[1m19/19\u001b[0m \u001b[32m━━━━━━━━━━━━━━━━━━━━\u001b[0m\u001b[37m\u001b[0m \u001b[1m11s\u001b[0m 441ms/step - accuracy: 0.5563 - loss: 0.6902 - val_accuracy: 0.4000 - val_loss: 0.7001\n",
            "Epoch 28/100\n",
            "\u001b[1m19/19\u001b[0m \u001b[32m━━━━━━━━━━━━━━━━━━━━\u001b[0m\u001b[37m\u001b[0m \u001b[1m7s\u001b[0m 335ms/step - accuracy: 0.5649 - loss: 0.6895 - val_accuracy: 0.5333 - val_loss: 0.6915\n",
            "Epoch 29/100\n",
            "\u001b[1m19/19\u001b[0m \u001b[32m━━━━━━━━━━━━━━━━━━━━\u001b[0m\u001b[37m\u001b[0m \u001b[1m10s\u001b[0m 504ms/step - accuracy: 0.5821 - loss: 0.6883 - val_accuracy: 0.3667 - val_loss: 0.7026\n",
            "Epoch 30/100\n",
            "\u001b[1m19/19\u001b[0m \u001b[32m━━━━━━━━━━━━━━━━━━━━\u001b[0m\u001b[37m\u001b[0m \u001b[1m6s\u001b[0m 330ms/step - accuracy: 0.5415 - loss: 0.6909 - val_accuracy: 0.4667 - val_loss: 0.6960\n",
            "Epoch 31/100\n",
            "\u001b[1m19/19\u001b[0m \u001b[32m━━━━━━━━━━━━━━━━━━━━\u001b[0m\u001b[37m\u001b[0m \u001b[1m10s\u001b[0m 518ms/step - accuracy: 0.4933 - loss: 0.6942 - val_accuracy: 0.5333 - val_loss: 0.6914\n",
            "Epoch 32/100\n",
            "\u001b[1m19/19\u001b[0m \u001b[32m━━━━━━━━━━━━━━━━━━━━\u001b[0m\u001b[37m\u001b[0m \u001b[1m8s\u001b[0m 401ms/step - accuracy: 0.5422 - loss: 0.6908 - val_accuracy: 0.3667 - val_loss: 0.7034\n",
            "Epoch 33/100\n",
            "\u001b[1m19/19\u001b[0m \u001b[32m━━━━━━━━━━━━━━━━━━━━\u001b[0m\u001b[37m\u001b[0m \u001b[1m7s\u001b[0m 344ms/step - accuracy: 0.5378 - loss: 0.6911 - val_accuracy: 0.3333 - val_loss: 0.7059\n",
            "Epoch 34/100\n",
            "\u001b[1m19/19\u001b[0m \u001b[32m━━━━━━━━━━━━━━━━━━━━\u001b[0m\u001b[37m\u001b[0m \u001b[1m8s\u001b[0m 405ms/step - accuracy: 0.4776 - loss: 0.6954 - val_accuracy: 0.4667 - val_loss: 0.6961\n",
            "Epoch 35/100\n",
            "\u001b[1m19/19\u001b[0m \u001b[32m━━━━━━━━━━━━━━━━━━━━\u001b[0m\u001b[37m\u001b[0m \u001b[1m7s\u001b[0m 345ms/step - accuracy: 0.5282 - loss: 0.6918 - val_accuracy: 0.4667 - val_loss: 0.6961\n",
            "Epoch 36/100\n",
            "\u001b[1m19/19\u001b[0m \u001b[32m━━━━━━━━━━━━━━━━━━━━\u001b[0m\u001b[37m\u001b[0m \u001b[1m7s\u001b[0m 390ms/step - accuracy: 0.5480 - loss: 0.6904 - val_accuracy: 0.4333 - val_loss: 0.6984\n",
            "Epoch 37/100\n",
            "\u001b[1m19/19\u001b[0m \u001b[32m━━━━━━━━━━━━━━━━━━━━\u001b[0m\u001b[37m\u001b[0m \u001b[1m7s\u001b[0m 355ms/step - accuracy: 0.5958 - loss: 0.6871 - val_accuracy: 0.4333 - val_loss: 0.6986\n",
            "Epoch 38/100\n",
            "\u001b[1m19/19\u001b[0m \u001b[32m━━━━━━━━━━━━━━━━━━━━\u001b[0m\u001b[37m\u001b[0m \u001b[1m7s\u001b[0m 386ms/step - accuracy: 0.4997 - loss: 0.6939 - val_accuracy: 0.5000 - val_loss: 0.6938\n",
            "Epoch 39/100\n",
            "\u001b[1m19/19\u001b[0m \u001b[32m━━━━━━━━━━━━━━━━━━━━\u001b[0m\u001b[37m\u001b[0m \u001b[1m7s\u001b[0m 342ms/step - accuracy: 0.5077 - loss: 0.6933 - val_accuracy: 0.3667 - val_loss: 0.7039\n",
            "Epoch 40/100\n",
            "\u001b[1m19/19\u001b[0m \u001b[32m━━━━━━━━━━━━━━━━━━━━\u001b[0m\u001b[37m\u001b[0m \u001b[1m7s\u001b[0m 378ms/step - accuracy: 0.5478 - loss: 0.6903 - val_accuracy: 0.4333 - val_loss: 0.6991\n",
            "Epoch 41/100\n",
            "\u001b[1m19/19\u001b[0m \u001b[32m━━━━━━━━━━━━━━━━━━━━\u001b[0m\u001b[37m\u001b[0m \u001b[1m9s\u001b[0m 330ms/step - accuracy: 0.6105 - loss: 0.6854 - val_accuracy: 0.4667 - val_loss: 0.6966\n",
            "Epoch 42/100\n",
            "\u001b[1m19/19\u001b[0m \u001b[32m━━━━━━━━━━━━━━━━━━━━\u001b[0m\u001b[37m\u001b[0m \u001b[1m9s\u001b[0m 487ms/step - accuracy: 0.5702 - loss: 0.6884 - val_accuracy: 0.5333 - val_loss: 0.6913\n",
            "Epoch 43/100\n",
            "\u001b[1m19/19\u001b[0m \u001b[32m━━━━━━━━━━━━━━━━━━━━\u001b[0m\u001b[37m\u001b[0m \u001b[1m7s\u001b[0m 387ms/step - accuracy: 0.4958 - loss: 0.6943 - val_accuracy: 0.4000 - val_loss: 0.7019\n",
            "Epoch 44/100\n",
            "\u001b[1m19/19\u001b[0m \u001b[32m━━━━━━━━━━━━━━━━━━━━\u001b[0m\u001b[37m\u001b[0m \u001b[1m9s\u001b[0m 324ms/step - accuracy: 0.5543 - loss: 0.6896 - val_accuracy: 0.5000 - val_loss: 0.6940\n",
            "Epoch 45/100\n",
            "\u001b[1m19/19\u001b[0m \u001b[32m━━━━━━━━━━━━━━━━━━━━\u001b[0m\u001b[37m\u001b[0m \u001b[1m8s\u001b[0m 418ms/step - accuracy: 0.5247 - loss: 0.6920 - val_accuracy: 0.4667 - val_loss: 0.6966\n",
            "Epoch 46/100\n",
            "\u001b[1m19/19\u001b[0m \u001b[32m━━━━━━━━━━━━━━━━━━━━\u001b[0m\u001b[37m\u001b[0m \u001b[1m7s\u001b[0m 339ms/step - accuracy: 0.5413 - loss: 0.6906 - val_accuracy: 0.4000 - val_loss: 0.7024\n",
            "Epoch 47/100\n",
            "\u001b[1m19/19\u001b[0m \u001b[32m━━━━━━━━━━━━━━━━━━━━\u001b[0m\u001b[37m\u001b[0m \u001b[1m8s\u001b[0m 443ms/step - accuracy: 0.5299 - loss: 0.6915 - val_accuracy: 0.5000 - val_loss: 0.6941\n",
            "Epoch 48/100\n",
            "\u001b[1m19/19\u001b[0m \u001b[32m━━━━━━━━━━━━━━━━━━━━\u001b[0m\u001b[37m\u001b[0m \u001b[1m7s\u001b[0m 356ms/step - accuracy: 0.5211 - loss: 0.6923 - val_accuracy: 0.5333 - val_loss: 0.6912\n",
            "Epoch 49/100\n",
            "\u001b[1m19/19\u001b[0m \u001b[32m━━━━━━━━━━━━━━━━━━━━\u001b[0m\u001b[37m\u001b[0m \u001b[1m11s\u001b[0m 378ms/step - accuracy: 0.5529 - loss: 0.6895 - val_accuracy: 0.4000 - val_loss: 0.7031\n",
            "Epoch 50/100\n",
            "\u001b[1m19/19\u001b[0m \u001b[32m━━━━━━━━━━━━━━━━━━━━\u001b[0m\u001b[37m\u001b[0m \u001b[1m8s\u001b[0m 402ms/step - accuracy: 0.5416 - loss: 0.6904 - val_accuracy: 0.4333 - val_loss: 0.7003\n",
            "Epoch 51/100\n",
            "\u001b[1m19/19\u001b[0m \u001b[32m━━━━━━━━━━━━━━━━━━━━\u001b[0m\u001b[37m\u001b[0m \u001b[1m7s\u001b[0m 334ms/step - accuracy: 0.5222 - loss: 0.6922 - val_accuracy: 0.5333 - val_loss: 0.6911\n",
            "Epoch 52/100\n",
            "\u001b[1m19/19\u001b[0m \u001b[32m━━━━━━━━━━━━━━━━━━━━\u001b[0m\u001b[37m\u001b[0m \u001b[1m8s\u001b[0m 401ms/step - accuracy: 0.4705 - loss: 0.6969 - val_accuracy: 0.4667 - val_loss: 0.6972\n",
            "Epoch 53/100\n",
            "\u001b[1m19/19\u001b[0m \u001b[32m━━━━━━━━━━━━━━━━━━━━\u001b[0m\u001b[37m\u001b[0m \u001b[1m9s\u001b[0m 345ms/step - accuracy: 0.4682 - loss: 0.6971 - val_accuracy: 0.4667 - val_loss: 0.6971\n",
            "Epoch 54/100\n",
            "\u001b[1m19/19\u001b[0m \u001b[32m━━━━━━━━━━━━━━━━━━━━\u001b[0m\u001b[37m\u001b[0m \u001b[1m8s\u001b[0m 439ms/step - accuracy: 0.4986 - loss: 0.6943 - val_accuracy: 0.3667 - val_loss: 0.7061\n",
            "Epoch 55/100\n",
            "\u001b[1m19/19\u001b[0m \u001b[32m━━━━━━━━━━━━━━━━━━━━\u001b[0m\u001b[37m\u001b[0m \u001b[1m9s\u001b[0m 395ms/step - accuracy: 0.4936 - loss: 0.6947 - val_accuracy: 0.4000 - val_loss: 0.7033\n",
            "Epoch 56/100\n",
            "\u001b[1m19/19\u001b[0m \u001b[32m━━━━━━━━━━━━━━━━━━━━\u001b[0m\u001b[37m\u001b[0m \u001b[1m9s\u001b[0m 337ms/step - accuracy: 0.5213 - loss: 0.6923 - val_accuracy: 0.4000 - val_loss: 0.7033\n",
            "Epoch 57/100\n",
            "\u001b[1m19/19\u001b[0m \u001b[32m━━━━━━━━━━━━━━━━━━━━\u001b[0m\u001b[37m\u001b[0m \u001b[1m9s\u001b[0m 492ms/step - accuracy: 0.5087 - loss: 0.6934 - val_accuracy: 0.4000 - val_loss: 0.7032\n",
            "Epoch 58/100\n",
            "\u001b[1m19/19\u001b[0m \u001b[32m━━━━━━━━━━━━━━━━━━━━\u001b[0m\u001b[37m\u001b[0m \u001b[1m9s\u001b[0m 405ms/step - accuracy: 0.5018 - loss: 0.6940 - val_accuracy: 0.5000 - val_loss: 0.6942\n",
            "Epoch 59/100\n",
            "\u001b[1m19/19\u001b[0m \u001b[32m━━━━━━━━━━━━━━━━━━━━\u001b[0m\u001b[37m\u001b[0m \u001b[1m8s\u001b[0m 378ms/step - accuracy: 0.5481 - loss: 0.6898 - val_accuracy: 0.4333 - val_loss: 0.7004\n",
            "Epoch 60/100\n",
            "\u001b[1m19/19\u001b[0m \u001b[32m━━━━━━━━━━━━━━━━━━━━\u001b[0m\u001b[37m\u001b[0m \u001b[1m8s\u001b[0m 434ms/step - accuracy: 0.5536 - loss: 0.6893 - val_accuracy: 0.3667 - val_loss: 0.7066\n",
            "Epoch 61/100\n",
            "\u001b[1m19/19\u001b[0m \u001b[32m━━━━━━━━━━━━━━━━━━━━\u001b[0m\u001b[37m\u001b[0m \u001b[1m8s\u001b[0m 405ms/step - accuracy: 0.4745 - loss: 0.6967 - val_accuracy: 0.4667 - val_loss: 0.6973\n",
            "Epoch 62/100\n",
            "\u001b[1m19/19\u001b[0m \u001b[32m━━━━━━━━━━━━━━━━━━━━\u001b[0m\u001b[37m\u001b[0m \u001b[1m8s\u001b[0m 436ms/step - accuracy: 0.5456 - loss: 0.6900 - val_accuracy: 0.4000 - val_loss: 0.7035\n",
            "Epoch 63/100\n",
            "\u001b[1m19/19\u001b[0m \u001b[32m━━━━━━━━━━━━━━━━━━━━\u001b[0m\u001b[37m\u001b[0m \u001b[1m7s\u001b[0m 353ms/step - accuracy: 0.5374 - loss: 0.6908 - val_accuracy: 0.4333 - val_loss: 0.7005\n",
            "Epoch 64/100\n",
            "\u001b[1m19/19\u001b[0m \u001b[32m━━━━━━━━━━━━━━━━━━━━\u001b[0m\u001b[37m\u001b[0m \u001b[1m8s\u001b[0m 435ms/step - accuracy: 0.5017 - loss: 0.6941 - val_accuracy: 0.4333 - val_loss: 0.7004\n",
            "Epoch 65/100\n",
            "\u001b[1m19/19\u001b[0m \u001b[32m━━━━━━━━━━━━━━━━━━━━\u001b[0m\u001b[37m\u001b[0m \u001b[1m7s\u001b[0m 339ms/step - accuracy: 0.4839 - loss: 0.6957 - val_accuracy: 0.4333 - val_loss: 0.7005\n",
            "Epoch 66/100\n",
            "\u001b[1m19/19\u001b[0m \u001b[32m━━━━━━━━━━━━━━━━━━━━\u001b[0m\u001b[37m\u001b[0m \u001b[1m10s\u001b[0m 512ms/step - accuracy: 0.5383 - loss: 0.6907 - val_accuracy: 0.3000 - val_loss: 0.7127\n",
            "Epoch 67/100\n",
            "\u001b[1m19/19\u001b[0m \u001b[32m━━━━━━━━━━━━━━━━━━━━\u001b[0m\u001b[37m\u001b[0m \u001b[1m7s\u001b[0m 339ms/step - accuracy: 0.5176 - loss: 0.6926 - val_accuracy: 0.5000 - val_loss: 0.6942\n",
            "Epoch 68/100\n",
            "\u001b[1m19/19\u001b[0m \u001b[32m━━━━━━━━━━━━━━━━━━━━\u001b[0m\u001b[37m\u001b[0m \u001b[1m9s\u001b[0m 458ms/step - accuracy: 0.5646 - loss: 0.6883 - val_accuracy: 0.4000 - val_loss: 0.7034\n",
            "Epoch 69/100\n",
            "\u001b[1m19/19\u001b[0m \u001b[32m━━━━━━━━━━━━━━━━━━━━\u001b[0m\u001b[37m\u001b[0m \u001b[1m8s\u001b[0m 415ms/step - accuracy: 0.5059 - loss: 0.6937 - val_accuracy: 0.5000 - val_loss: 0.6942\n",
            "Epoch 70/100\n",
            "\u001b[1m19/19\u001b[0m \u001b[32m━━━━━━━━━━━━━━━━━━━━\u001b[0m\u001b[37m\u001b[0m \u001b[1m9s\u001b[0m 329ms/step - accuracy: 0.5637 - loss: 0.6884 - val_accuracy: 0.5000 - val_loss: 0.6942\n",
            "Epoch 71/100\n",
            "\u001b[1m19/19\u001b[0m \u001b[32m━━━━━━━━━━━━━━━━━━━━\u001b[0m\u001b[37m\u001b[0m \u001b[1m9s\u001b[0m 453ms/step - accuracy: 0.5617 - loss: 0.6885 - val_accuracy: 0.3667 - val_loss: 0.7071\n",
            "Epoch 72/100\n",
            "\u001b[1m19/19\u001b[0m \u001b[32m━━━━━━━━━━━━━━━━━━━━\u001b[0m\u001b[37m\u001b[0m \u001b[1m7s\u001b[0m 362ms/step - accuracy: 0.5011 - loss: 0.6942 - val_accuracy: 0.3667 - val_loss: 0.7072\n",
            "Epoch 73/100\n",
            "\u001b[1m19/19\u001b[0m \u001b[32m━━━━━━━━━━━━━━━━━━━━\u001b[0m\u001b[37m\u001b[0m \u001b[1m9s\u001b[0m 453ms/step - accuracy: 0.4996 - loss: 0.6944 - val_accuracy: 0.3333 - val_loss: 0.7109\n",
            "Epoch 74/100\n",
            "\u001b[1m19/19\u001b[0m \u001b[32m━━━━━━━━━━━━━━━━━━━━\u001b[0m\u001b[37m\u001b[0m \u001b[1m7s\u001b[0m 339ms/step - accuracy: 0.5321 - loss: 0.6912 - val_accuracy: 0.5000 - val_loss: 0.6943\n",
            "Epoch 75/100\n",
            "\u001b[1m19/19\u001b[0m \u001b[32m━━━━━━━━━━━━━━━━━━━━\u001b[0m\u001b[37m\u001b[0m \u001b[1m9s\u001b[0m 451ms/step - accuracy: 0.5777 - loss: 0.6868 - val_accuracy: 0.4000 - val_loss: 0.7041\n",
            "Epoch 76/100\n",
            "\u001b[1m19/19\u001b[0m \u001b[32m━━━━━━━━━━━━━━━━━━━━\u001b[0m\u001b[37m\u001b[0m \u001b[1m7s\u001b[0m 354ms/step - accuracy: 0.5079 - loss: 0.6936 - val_accuracy: 0.4667 - val_loss: 0.6976\n",
            "Epoch 77/100\n",
            "\u001b[1m19/19\u001b[0m \u001b[32m━━━━━━━━━━━━━━━━━━━━\u001b[0m\u001b[37m\u001b[0m \u001b[1m8s\u001b[0m 439ms/step - accuracy: 0.5059 - loss: 0.6938 - val_accuracy: 0.4000 - val_loss: 0.7040\n",
            "Epoch 78/100\n",
            "\u001b[1m19/19\u001b[0m \u001b[32m━━━━━━━━━━━━━━━━━━━━\u001b[0m\u001b[37m\u001b[0m \u001b[1m7s\u001b[0m 388ms/step - accuracy: 0.5703 - loss: 0.6875 - val_accuracy: 0.4333 - val_loss: 0.7007\n",
            "Epoch 79/100\n",
            "\u001b[1m19/19\u001b[0m \u001b[32m━━━━━━━━━━━━━━━━━━━━\u001b[0m\u001b[37m\u001b[0m \u001b[1m7s\u001b[0m 361ms/step - accuracy: 0.5521 - loss: 0.6893 - val_accuracy: 0.4000 - val_loss: 0.7041\n",
            "Epoch 80/100\n",
            "\u001b[1m19/19\u001b[0m \u001b[32m━━━━━━━━━━━━━━━━━━━━\u001b[0m\u001b[37m\u001b[0m \u001b[1m8s\u001b[0m 407ms/step - accuracy: 0.4574 - loss: 0.6985 - val_accuracy: 0.5667 - val_loss: 0.6879\n",
            "Epoch 81/100\n",
            "\u001b[1m19/19\u001b[0m \u001b[32m━━━━━━━━━━━━━━━━━━━━\u001b[0m\u001b[37m\u001b[0m \u001b[1m9s\u001b[0m 338ms/step - accuracy: 0.5143 - loss: 0.6929 - val_accuracy: 0.3667 - val_loss: 0.7071\n",
            "Epoch 82/100\n",
            "\u001b[1m19/19\u001b[0m \u001b[32m━━━━━━━━━━━━━━━━━━━━\u001b[0m\u001b[37m\u001b[0m \u001b[1m9s\u001b[0m 445ms/step - accuracy: 0.5484 - loss: 0.6897 - val_accuracy: 0.4667 - val_loss: 0.6975\n",
            "Epoch 83/100\n",
            "\u001b[1m19/19\u001b[0m \u001b[32m━━━━━━━━━━━━━━━━━━━━\u001b[0m\u001b[37m\u001b[0m \u001b[1m7s\u001b[0m 357ms/step - accuracy: 0.5855 - loss: 0.6861 - val_accuracy: 0.5000 - val_loss: 0.6943\n",
            "Epoch 84/100\n",
            "\u001b[1m19/19\u001b[0m \u001b[32m━━━━━━━━━━━━━━━━━━━━\u001b[0m\u001b[37m\u001b[0m \u001b[1m8s\u001b[0m 430ms/step - accuracy: 0.5100 - loss: 0.6934 - val_accuracy: 0.4000 - val_loss: 0.7041\n",
            "Epoch 85/100\n",
            "\u001b[1m19/19\u001b[0m \u001b[32m━━━━━━━━━━━━━━━━━━━━\u001b[0m\u001b[37m\u001b[0m \u001b[1m8s\u001b[0m 395ms/step - accuracy: 0.5477 - loss: 0.6897 - val_accuracy: 0.4000 - val_loss: 0.7041\n",
            "Epoch 86/100\n",
            "\u001b[1m19/19\u001b[0m \u001b[32m━━━━━━━━━━━━━━━━━━━━\u001b[0m\u001b[37m\u001b[0m \u001b[1m8s\u001b[0m 412ms/step - accuracy: 0.4840 - loss: 0.6959 - val_accuracy: 0.4333 - val_loss: 0.7009\n",
            "Epoch 87/100\n",
            "\u001b[1m19/19\u001b[0m \u001b[32m━━━━━━━━━━━━━━━━━━━━\u001b[0m\u001b[37m\u001b[0m \u001b[1m8s\u001b[0m 408ms/step - accuracy: 0.4968 - loss: 0.6947 - val_accuracy: 0.5667 - val_loss: 0.6878\n",
            "Epoch 88/100\n",
            "\u001b[1m19/19\u001b[0m \u001b[32m━━━━━━━━━━━━━━━━━━━━\u001b[0m\u001b[37m\u001b[0m \u001b[1m9s\u001b[0m 346ms/step - accuracy: 0.5104 - loss: 0.6934 - val_accuracy: 0.5333 - val_loss: 0.6911\n",
            "Epoch 89/100\n",
            "\u001b[1m19/19\u001b[0m \u001b[32m━━━━━━━━━━━━━━━━━━━━\u001b[0m\u001b[37m\u001b[0m \u001b[1m10s\u001b[0m 346ms/step - accuracy: 0.5545 - loss: 0.6890 - val_accuracy: 0.5000 - val_loss: 0.6944\n",
            "Epoch 90/100\n",
            "\u001b[1m19/19\u001b[0m \u001b[32m━━━━━━━━━━━━━━━━━━━━\u001b[0m\u001b[37m\u001b[0m \u001b[1m9s\u001b[0m 450ms/step - accuracy: 0.4719 - loss: 0.6972 - val_accuracy: 0.5667 - val_loss: 0.6877\n",
            "Epoch 91/100\n",
            "\u001b[1m19/19\u001b[0m \u001b[32m━━━━━━━━━━━━━━━━━━━━\u001b[0m\u001b[37m\u001b[0m \u001b[1m6s\u001b[0m 325ms/step - accuracy: 0.5302 - loss: 0.6914 - val_accuracy: 0.4333 - val_loss: 0.7012\n",
            "Epoch 92/100\n",
            "\u001b[1m19/19\u001b[0m \u001b[32m━━━━━━━━━━━━━━━━━━━━\u001b[0m\u001b[37m\u001b[0m \u001b[1m8s\u001b[0m 434ms/step - accuracy: 0.5458 - loss: 0.6898 - val_accuracy: 0.4333 - val_loss: 0.7013\n",
            "Epoch 93/100\n",
            "\u001b[1m19/19\u001b[0m \u001b[32m━━━━━━━━━━━━━━━━━━━━\u001b[0m\u001b[37m\u001b[0m \u001b[1m6s\u001b[0m 334ms/step - accuracy: 0.4632 - loss: 0.6983 - val_accuracy: 0.4667 - val_loss: 0.6978\n",
            "Epoch 94/100\n",
            "\u001b[1m19/19\u001b[0m \u001b[32m━━━━━━━━━━━━━━━━━━━━\u001b[0m\u001b[37m\u001b[0m \u001b[1m8s\u001b[0m 429ms/step - accuracy: 0.5164 - loss: 0.6928 - val_accuracy: 0.4000 - val_loss: 0.7047\n",
            "Epoch 95/100\n",
            "\u001b[1m19/19\u001b[0m \u001b[32m━━━━━━━━━━━━━━━━━━━━\u001b[0m\u001b[37m\u001b[0m \u001b[1m6s\u001b[0m 337ms/step - accuracy: 0.5955 - loss: 0.6847 - val_accuracy: 0.4667 - val_loss: 0.6980\n",
            "Epoch 96/100\n",
            "\u001b[1m19/19\u001b[0m \u001b[32m━━━━━━━━━━━━━━━━━━━━\u001b[0m\u001b[37m\u001b[0m \u001b[1m8s\u001b[0m 433ms/step - accuracy: 0.5196 - loss: 0.6924 - val_accuracy: 0.5000 - val_loss: 0.6946\n",
            "Epoch 97/100\n",
            "\u001b[1m19/19\u001b[0m \u001b[32m━━━━━━━━━━━━━━━━━━━━\u001b[0m\u001b[37m\u001b[0m \u001b[1m6s\u001b[0m 327ms/step - accuracy: 0.4358 - loss: 0.7016 - val_accuracy: 0.5333 - val_loss: 0.6910\n",
            "Epoch 98/100\n",
            "\u001b[1m19/19\u001b[0m \u001b[32m━━━━━━━━━━━━━━━━━━━━\u001b[0m\u001b[37m\u001b[0m \u001b[1m8s\u001b[0m 432ms/step - accuracy: 0.5009 - loss: 0.6945 - val_accuracy: 0.5000 - val_loss: 0.6946\n",
            "Epoch 99/100\n",
            "\u001b[1m19/19\u001b[0m \u001b[32m━━━━━━━━━━━━━━━━━━━━\u001b[0m\u001b[37m\u001b[0m \u001b[1m6s\u001b[0m 326ms/step - accuracy: 0.4680 - loss: 0.6980 - val_accuracy: 0.4667 - val_loss: 0.6981\n",
            "Epoch 100/100\n",
            "\u001b[1m19/19\u001b[0m \u001b[32m━━━━━━━━━━━━━━━━━━━━\u001b[0m\u001b[37m\u001b[0m \u001b[1m8s\u001b[0m 428ms/step - accuracy: 0.5304 - loss: 0.6913 - val_accuracy: 0.6000 - val_loss: 0.6838\n"
          ]
        }
      ],
      "source": [
        " # initiating training\n",
        "hist = model.fit(train, epochs=epoch_num, validation_data=val)"
      ]
    },
    {
      "cell_type": "markdown",
      "metadata": {
        "id": "IeaiN571SlTe"
      },
      "source": [
        "**TESTING SECTION**\n"
      ]
    },
    {
      "cell_type": "code",
      "source": [
        "# changing to directory with test dataset\n",
        "%cd '/content/drive/My Drive/JEI pulsar test data'\n",
        "\n",
        "test_data = tf.keras.utils.image_dataset_from_directory('/content/drive/My Drive/JEI pulsar test data',batch_size=1)\n",
        "\n",
        "test_data_iterator = test_data.as_numpy_iterator()\n",
        "test_batch = test_data_iterator.next()\n",
        "\n",
        "test_data = test_data.map(lambda x,y: (x/255, y))\n",
        "test_scaled_iterator = test_data.as_numpy_iterator()\n",
        "test_batch = test_scaled_iterator.next()"
      ],
      "metadata": {
        "id": "lYy5N6Hfl8RU"
      },
      "execution_count": null,
      "outputs": []
    },
    {
      "cell_type": "code",
      "source": [
        "test_size = int(len(test_data))\n",
        "test = test_data.take(test_size)"
      ],
      "metadata": {
        "id": "hZHO2EOQmRoM"
      },
      "execution_count": null,
      "outputs": []
    },
    {
      "cell_type": "code",
      "execution_count": null,
      "metadata": {
        "colab": {
          "background_save": true
        },
        "id": "pi94sxSESn_n"
      },
      "outputs": [],
      "source": [
        "# making predcitions and evaluation based on metrics of Precision, Recall, and BinaryAccuracy\n",
        "from tensorflow.keras.metrics import Precision, Recall, BinaryAccuracy\n",
        "\n",
        "pre = Precision()\n",
        "re = Recall()\n",
        "acc = BinaryAccuracy()\n",
        "\n",
        "for batch in test.as_numpy_iterator():\n",
        "    X, y = batch\n",
        "    yhat = model.predict(X)\n",
        "    pre.update_state(y, yhat)\n",
        "    re.update_state(y, yhat)\n",
        "    acc.update_state(y, yhat)\n",
        "\n",
        "test_precision=float(pre.result().numpy())\n",
        "test_recall=float(re.result().numpy())\n",
        "test_accuracy=float(acc.result().numpy())\n",
        "\n",
        "test_data={'test_accuracy':test_accuracy, 'test_precision':test_precision, 'test_recall':test_recall}\n",
        "print(f'Precision: {test_precision}, Recall: {test_recall}, Accuracy: {test_accuracy}')"
      ]
    },
    {
      "cell_type": "markdown",
      "metadata": {
        "id": "DR7rB9v8Suld"
      },
      "source": [
        "# **LOAD DATA INTO CSV**"
      ]
    },
    {
      "cell_type": "code",
      "execution_count": null,
      "metadata": {
        "colab": {
          "background_save": true
        },
        "id": "jwdv3WqDTB8X"
      },
      "outputs": [],
      "source": [
        "# MAKING DICTIONARY W/ DATA (w/ all training accuracies in a list)\n",
        "\n",
        "# train_data refers to the data stored of metric values from training process\n",
        "train_data = hist.history"
      ]
    },
    {
      "cell_type": "markdown",
      "metadata": {
        "id": "qBEsxQjDT3pl"
      },
      "source": [
        "**W/ JUST FINAL TRAINING ACCURACY** (this includes only the final training accuracy and loss for all the epochs run)"
      ]
    },
    {
      "cell_type": "code",
      "execution_count": null,
      "metadata": {
        "colab": {
          "background_save": true
        },
        "id": "iT2rnkWNO6oa"
      },
      "outputs": [],
      "source": [
        "# getting each last value from training data and put it into a dictionary\n",
        "end_accuracy, end_loss, end_val_accuracy,end_val_loss=train_data['accuracy'][-1], train_data['loss'][-1],train_data['val_accuracy'][-1], train_data['val_loss'][-1]\n",
        "end_train_data = {'accuracy': end_accuracy, 'loss': end_loss, 'val_accuracy':end_val_accuracy, 'val_loss':end_val_loss}\n",
        "\n",
        "# make another dict with epoch and trial_num for training data with only end training accuracies, add that, and then also test data to end_all_info\n",
        "end_all_info={'epochs': epoch_num, 'trial_num' : trial_num}\n",
        "end_all_info.update(end_train_data)\n",
        "# adding test data to \"end_all_info\" dictionary\n",
        "end_all_info.update(test_data)"
      ]
    },
    {
      "cell_type": "code",
      "execution_count": null,
      "metadata": {
        "colab": {
          "background_save": true
        },
        "id": "2NzjmxeqoPr6"
      },
      "outputs": [],
      "source": [
        "# Specify the CSV file name\n",
        "end_file_path = '/content/drive/My Drive/Epochs data.csv'\n",
        "\n",
        "with open(end_file_path, mode='a', newline='') as file:\n",
        "    writer = csv.DictWriter(file, fieldnames=end_all_info.keys())\n",
        "\n",
        "    # Write the header only if the file is empty\n",
        "    if file.tell() == 0:\n",
        "      writer.writeheader()\n",
        "\n",
        "    # Write the dictionary as a row in the CSV file\n",
        "    writer.writerow(end_all_info)\n",
        "\n",
        "print(f\"Data appended to {end_file_path} successfully.\")"
      ]
    }
  ],
  "metadata": {
    "colab": {
      "provenance": [],
      "authorship_tag": "ABX9TyOn2JjYhcNBqv+dZJzPJ0SC",
      "include_colab_link": true
    },
    "kernelspec": {
      "display_name": "Python 3",
      "name": "python3"
    },
    "language_info": {
      "name": "python"
    }
  },
  "nbformat": 4,
  "nbformat_minor": 0
}